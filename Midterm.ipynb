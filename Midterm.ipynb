{
 "cells": [
  {
   "cell_type": "markdown",
   "metadata": {},
   "source": [
    "# **MIDTERM**\n",
    "\n",
    "### Project Outline\n",
    "Load Data ->\n",
    "Exploratory Analysis ->\n",
    "Initial Model ->\n",
    "Evaluation ->\n",
    "Feature Engineering -> \n",
    "Model 2 ->\n",
    "Evaluation ->\n",
    "Further Investigation -> \n",
    "Exploration "
   ]
  },
  {
   "cell_type": "code",
   "execution_count": 71,
   "metadata": {},
   "outputs": [],
   "source": [
    "import pandas as pd\n",
    "import matplotlib.pyplot as plt\n",
    "import seaborn as sns\n",
    "%matplotlib inline"
   ]
  },
  {
   "cell_type": "code",
   "execution_count": 72,
   "metadata": {},
   "outputs": [
    {
     "data": {
      "text/html": [
       "<div>\n",
       "<style scoped>\n",
       "    .dataframe tbody tr th:only-of-type {\n",
       "        vertical-align: middle;\n",
       "    }\n",
       "\n",
       "    .dataframe tbody tr th {\n",
       "        vertical-align: top;\n",
       "    }\n",
       "\n",
       "    .dataframe thead th {\n",
       "        text-align: right;\n",
       "    }\n",
       "</style>\n",
       "<table border=\"1\" class=\"dataframe\">\n",
       "  <thead>\n",
       "    <tr style=\"text-align: right;\">\n",
       "      <th></th>\n",
       "      <th>Unnamed: 0</th>\n",
       "      <th>id</th>\n",
       "      <th>vendor_id</th>\n",
       "      <th>pickup_datetime</th>\n",
       "      <th>dropoff_datetime</th>\n",
       "      <th>passenger_count</th>\n",
       "      <th>pickup_longitude</th>\n",
       "      <th>pickup_latitude</th>\n",
       "      <th>dropoff_longitude</th>\n",
       "      <th>dropoff_latitude</th>\n",
       "      <th>store_and_fwd_flag</th>\n",
       "      <th>trip_duration</th>\n",
       "    </tr>\n",
       "  </thead>\n",
       "  <tbody>\n",
       "    <tr>\n",
       "      <th>583453</th>\n",
       "      <td>1205321</td>\n",
       "      <td>id1854870</td>\n",
       "      <td>2</td>\n",
       "      <td>2016-04-07 18:17:28</td>\n",
       "      <td>2016-04-07 18:30:22</td>\n",
       "      <td>5</td>\n",
       "      <td>-73.990097</td>\n",
       "      <td>40.738583</td>\n",
       "      <td>-73.991425</td>\n",
       "      <td>40.748905</td>\n",
       "      <td>N</td>\n",
       "      <td>774</td>\n",
       "    </tr>\n",
       "    <tr>\n",
       "      <th>583454</th>\n",
       "      <td>755085</td>\n",
       "      <td>id0112991</td>\n",
       "      <td>2</td>\n",
       "      <td>2016-01-10 00:27:21</td>\n",
       "      <td>2016-01-10 00:32:15</td>\n",
       "      <td>1</td>\n",
       "      <td>-73.967110</td>\n",
       "      <td>40.762661</td>\n",
       "      <td>-73.976532</td>\n",
       "      <td>40.751530</td>\n",
       "      <td>N</td>\n",
       "      <td>294</td>\n",
       "    </tr>\n",
       "    <tr>\n",
       "      <th>583455</th>\n",
       "      <td>1401695</td>\n",
       "      <td>id2523566</td>\n",
       "      <td>2</td>\n",
       "      <td>2016-05-10 23:08:20</td>\n",
       "      <td>2016-05-10 23:16:08</td>\n",
       "      <td>1</td>\n",
       "      <td>-73.986458</td>\n",
       "      <td>40.759899</td>\n",
       "      <td>-73.974052</td>\n",
       "      <td>40.787312</td>\n",
       "      <td>N</td>\n",
       "      <td>468</td>\n",
       "    </tr>\n",
       "    <tr>\n",
       "      <th>583456</th>\n",
       "      <td>295633</td>\n",
       "      <td>id0401810</td>\n",
       "      <td>2</td>\n",
       "      <td>2016-02-13 10:43:19</td>\n",
       "      <td>2016-02-13 10:50:18</td>\n",
       "      <td>1</td>\n",
       "      <td>-73.947845</td>\n",
       "      <td>40.790138</td>\n",
       "      <td>-73.950523</td>\n",
       "      <td>40.783192</td>\n",
       "      <td>N</td>\n",
       "      <td>419</td>\n",
       "    </tr>\n",
       "    <tr>\n",
       "      <th>583457</th>\n",
       "      <td>183456</td>\n",
       "      <td>id3746239</td>\n",
       "      <td>1</td>\n",
       "      <td>2016-01-24 11:56:00</td>\n",
       "      <td>2016-01-24 12:01:33</td>\n",
       "      <td>2</td>\n",
       "      <td>-73.985802</td>\n",
       "      <td>40.753136</td>\n",
       "      <td>-73.981735</td>\n",
       "      <td>40.762466</td>\n",
       "      <td>N</td>\n",
       "      <td>333</td>\n",
       "    </tr>\n",
       "  </tbody>\n",
       "</table>\n",
       "</div>"
      ],
      "text/plain": [
       "        Unnamed: 0         id  vendor_id      pickup_datetime  \\\n",
       "583453     1205321  id1854870          2  2016-04-07 18:17:28   \n",
       "583454      755085  id0112991          2  2016-01-10 00:27:21   \n",
       "583455     1401695  id2523566          2  2016-05-10 23:08:20   \n",
       "583456      295633  id0401810          2  2016-02-13 10:43:19   \n",
       "583457      183456  id3746239          1  2016-01-24 11:56:00   \n",
       "\n",
       "           dropoff_datetime  passenger_count  pickup_longitude  \\\n",
       "583453  2016-04-07 18:30:22                5        -73.990097   \n",
       "583454  2016-01-10 00:32:15                1        -73.967110   \n",
       "583455  2016-05-10 23:16:08                1        -73.986458   \n",
       "583456  2016-02-13 10:50:18                1        -73.947845   \n",
       "583457  2016-01-24 12:01:33                2        -73.985802   \n",
       "\n",
       "        pickup_latitude  dropoff_longitude  dropoff_latitude  \\\n",
       "583453        40.738583         -73.991425         40.748905   \n",
       "583454        40.762661         -73.976532         40.751530   \n",
       "583455        40.759899         -73.974052         40.787312   \n",
       "583456        40.790138         -73.950523         40.783192   \n",
       "583457        40.753136         -73.981735         40.762466   \n",
       "\n",
       "       store_and_fwd_flag  trip_duration  \n",
       "583453                  N            774  \n",
       "583454                  N            294  \n",
       "583455                  N            468  \n",
       "583456                  N            419  \n",
       "583457                  N            333  "
      ]
     },
     "execution_count": 72,
     "metadata": {},
     "output_type": "execute_result"
    }
   ],
   "source": [
    "df = pd.read_csv('NYC_Cab_Duration-Copy1.csv')\n",
    "df.tail()"
   ]
  },
  {
   "cell_type": "code",
   "execution_count": 73,
   "metadata": {},
   "outputs": [
    {
     "name": "stdout",
     "output_type": "stream",
     "text": [
      "<class 'pandas.core.frame.DataFrame'>\n",
      "RangeIndex: 583458 entries, 0 to 583457\n",
      "Data columns (total 12 columns):\n",
      "Unnamed: 0            583458 non-null int64\n",
      "id                    583458 non-null object\n",
      "vendor_id             583458 non-null int64\n",
      "pickup_datetime       583458 non-null object\n",
      "dropoff_datetime      583458 non-null object\n",
      "passenger_count       583458 non-null int64\n",
      "pickup_longitude      583458 non-null float64\n",
      "pickup_latitude       583458 non-null float64\n",
      "dropoff_longitude     583458 non-null float64\n",
      "dropoff_latitude      583458 non-null float64\n",
      "store_and_fwd_flag    583458 non-null object\n",
      "trip_duration         583458 non-null int64\n",
      "dtypes: float64(4), int64(4), object(4)\n",
      "memory usage: 53.4+ MB\n"
     ]
    }
   ],
   "source": [
    "df.info()"
   ]
  },
  {
   "cell_type": "code",
   "execution_count": 74,
   "metadata": {},
   "outputs": [
    {
     "name": "stdout",
     "output_type": "stream",
     "text": [
      "['Unnamed: 0', 'id', 'vendor_id', 'pickup_datetime', 'dropoff_datetime', 'passenger_count', 'pickup_longitude', 'pickup_latitude', 'dropoff_longitude', 'dropoff_latitude', 'store_and_fwd_flag', 'trip_duration']\n"
     ]
    }
   ],
   "source": [
    "cols = list(df.columns.values)\n",
    "print(cols)"
   ]
  },
  {
   "cell_type": "code",
   "execution_count": 75,
   "metadata": {},
   "outputs": [
    {
     "data": {
      "text/plain": [
       "array(['id3879397', 'id0701659', 'id3093367', ..., 'id2523566',\n",
       "       'id0401810', 'id3746239'], dtype=object)"
      ]
     },
     "execution_count": 75,
     "metadata": {},
     "output_type": "execute_result"
    }
   ],
   "source": [
    "# how many id's are in the column?\n",
    "df.id.unique() #REVISAR"
   ]
  },
  {
   "cell_type": "code",
   "execution_count": 76,
   "metadata": {},
   "outputs": [
    {
     "data": {
      "text/plain": [
       "array([1, 2], dtype=int64)"
      ]
     },
     "execution_count": 76,
     "metadata": {},
     "output_type": "execute_result"
    }
   ],
   "source": [
    "# is there more than \"1's\" and \"2's\" in vendor_id column?\n",
    "df.vendor_id.unique()"
   ]
  },
  {
   "cell_type": "code",
   "execution_count": 77,
   "metadata": {},
   "outputs": [
    {
     "data": {
      "text/html": [
       "<div>\n",
       "<style scoped>\n",
       "    .dataframe tbody tr th:only-of-type {\n",
       "        vertical-align: middle;\n",
       "    }\n",
       "\n",
       "    .dataframe tbody tr th {\n",
       "        vertical-align: top;\n",
       "    }\n",
       "\n",
       "    .dataframe thead th {\n",
       "        text-align: right;\n",
       "    }\n",
       "</style>\n",
       "<table border=\"1\" class=\"dataframe\">\n",
       "  <thead>\n",
       "    <tr style=\"text-align: right;\">\n",
       "      <th></th>\n",
       "      <th>1</th>\n",
       "      <th>2</th>\n",
       "    </tr>\n",
       "  </thead>\n",
       "  <tbody>\n",
       "    <tr>\n",
       "      <th>0</th>\n",
       "      <td>1</td>\n",
       "      <td>0</td>\n",
       "    </tr>\n",
       "    <tr>\n",
       "      <th>1</th>\n",
       "      <td>1</td>\n",
       "      <td>0</td>\n",
       "    </tr>\n",
       "    <tr>\n",
       "      <th>2</th>\n",
       "      <td>0</td>\n",
       "      <td>1</td>\n",
       "    </tr>\n",
       "    <tr>\n",
       "      <th>3</th>\n",
       "      <td>0</td>\n",
       "      <td>1</td>\n",
       "    </tr>\n",
       "    <tr>\n",
       "      <th>4</th>\n",
       "      <td>0</td>\n",
       "      <td>1</td>\n",
       "    </tr>\n",
       "  </tbody>\n",
       "</table>\n",
       "</div>"
      ],
      "text/plain": [
       "   1  2\n",
       "0  1  0\n",
       "1  1  0\n",
       "2  0  1\n",
       "3  0  1\n",
       "4  0  1"
      ]
     },
     "execution_count": 77,
     "metadata": {},
     "output_type": "execute_result"
    }
   ],
   "source": [
    "#creating dummies\n",
    "pd.get_dummies(df.vendor_id).head()"
   ]
  },
  {
   "cell_type": "code",
   "execution_count": 78,
   "metadata": {},
   "outputs": [],
   "source": [
    "for col in ['vendor_id']:\n",
    "    df[col] = df [col].astype(str)"
   ]
  },
  {
   "cell_type": "code",
   "execution_count": 79,
   "metadata": {},
   "outputs": [],
   "source": [
    "# analysing dates:"
   ]
  },
  {
   "cell_type": "code",
   "execution_count": 80,
   "metadata": {},
   "outputs": [
    {
     "data": {
      "text/plain": [
       "dtype('O')"
      ]
     },
     "execution_count": 80,
     "metadata": {},
     "output_type": "execute_result"
    }
   ],
   "source": [
    "df.dropoff_datetime.dtype"
   ]
  },
  {
   "cell_type": "code",
   "execution_count": 81,
   "metadata": {},
   "outputs": [
    {
     "data": {
      "text/plain": [
       "dtype('O')"
      ]
     },
     "execution_count": 81,
     "metadata": {},
     "output_type": "execute_result"
    }
   ],
   "source": [
    "df.pickup_datetime.dtype"
   ]
  },
  {
   "cell_type": "code",
   "execution_count": 82,
   "metadata": {},
   "outputs": [
    {
     "data": {
      "text/plain": [
       "0   2016-06-02 18:22:26\n",
       "1   2016-03-02 10:20:39\n",
       "2   2016-02-17 18:21:34\n",
       "3   2016-03-17 07:42:18\n",
       "4   2016-04-20 18:01:57\n",
       "Name: dropoff_datetime, dtype: datetime64[ns]"
      ]
     },
     "execution_count": 82,
     "metadata": {},
     "output_type": "execute_result"
    }
   ],
   "source": [
    "pd.to_datetime(df.dropoff_datetime).head()"
   ]
  },
  {
   "cell_type": "code",
   "execution_count": 83,
   "metadata": {},
   "outputs": [
    {
     "data": {
      "text/plain": [
       "0   2016-06-02 17:46:16\n",
       "1   2016-03-02 10:07:11\n",
       "2   2016-02-17 17:18:27\n",
       "3   2016-03-17 07:30:59\n",
       "4   2016-04-20 17:15:26\n",
       "Name: pickup_datetime, dtype: datetime64[ns]"
      ]
     },
     "execution_count": 83,
     "metadata": {},
     "output_type": "execute_result"
    }
   ],
   "source": [
    "pd.to_datetime(df.pickup_datetime).head()"
   ]
  },
  {
   "cell_type": "code",
   "execution_count": 84,
   "metadata": {},
   "outputs": [
    {
     "name": "stdout",
     "output_type": "stream",
     "text": [
      "datetime64[ns]\n"
     ]
    }
   ],
   "source": [
    "df.dropoff_datetime = pd.to_datetime(df.dropoff_datetime)\n",
    "print(df.dropoff_datetime.dtype)"
   ]
  },
  {
   "cell_type": "code",
   "execution_count": 85,
   "metadata": {},
   "outputs": [
    {
     "name": "stdout",
     "output_type": "stream",
     "text": [
      "datetime64[ns]\n"
     ]
    }
   ],
   "source": [
    "df.pickup_datetime = pd.to_datetime(df.pickup_datetime)\n",
    "print(df.pickup_datetime.dtype)"
   ]
  },
  {
   "cell_type": "code",
   "execution_count": 86,
   "metadata": {},
   "outputs": [],
   "source": [
    "df.pickup_datetime.dt.day_name()\n",
    "week_day = df.pickup_datetime.dt.day_name()"
   ]
  },
  {
   "cell_type": "code",
   "execution_count": 87,
   "metadata": {},
   "outputs": [
    {
     "data": {
      "text/plain": [
       "0     Thursday\n",
       "1    Wednesday\n",
       "2    Wednesday\n",
       "3     Thursday\n",
       "4    Wednesday\n",
       "Name: pickup_datetime, dtype: object"
      ]
     },
     "execution_count": 87,
     "metadata": {},
     "output_type": "execute_result"
    }
   ],
   "source": [
    "week_day.head()"
   ]
  },
  {
   "cell_type": "code",
   "execution_count": 88,
   "metadata": {},
   "outputs": [],
   "source": [
    "df['week_day'] = df.pickup_datetime.dt.day_name()"
   ]
  },
  {
   "cell_type": "code",
   "execution_count": 89,
   "metadata": {},
   "outputs": [
    {
     "data": {
      "text/html": [
       "<div>\n",
       "<style scoped>\n",
       "    .dataframe tbody tr th:only-of-type {\n",
       "        vertical-align: middle;\n",
       "    }\n",
       "\n",
       "    .dataframe tbody tr th {\n",
       "        vertical-align: top;\n",
       "    }\n",
       "\n",
       "    .dataframe thead th {\n",
       "        text-align: right;\n",
       "    }\n",
       "</style>\n",
       "<table border=\"1\" class=\"dataframe\">\n",
       "  <thead>\n",
       "    <tr style=\"text-align: right;\">\n",
       "      <th></th>\n",
       "      <th>Unnamed: 0</th>\n",
       "      <th>id</th>\n",
       "      <th>vendor_id</th>\n",
       "      <th>pickup_datetime</th>\n",
       "      <th>dropoff_datetime</th>\n",
       "      <th>passenger_count</th>\n",
       "      <th>pickup_longitude</th>\n",
       "      <th>pickup_latitude</th>\n",
       "      <th>dropoff_longitude</th>\n",
       "      <th>dropoff_latitude</th>\n",
       "      <th>store_and_fwd_flag</th>\n",
       "      <th>trip_duration</th>\n",
       "      <th>week_day</th>\n",
       "    </tr>\n",
       "  </thead>\n",
       "  <tbody>\n",
       "    <tr>\n",
       "      <th>0</th>\n",
       "      <td>583100</td>\n",
       "      <td>id3879397</td>\n",
       "      <td>1</td>\n",
       "      <td>2016-06-02 17:46:16</td>\n",
       "      <td>2016-06-02 18:22:26</td>\n",
       "      <td>1</td>\n",
       "      <td>-73.990105</td>\n",
       "      <td>40.732841</td>\n",
       "      <td>-73.973244</td>\n",
       "      <td>40.782879</td>\n",
       "      <td>N</td>\n",
       "      <td>2170</td>\n",
       "      <td>Thursday</td>\n",
       "    </tr>\n",
       "    <tr>\n",
       "      <th>1</th>\n",
       "      <td>1320440</td>\n",
       "      <td>id0701659</td>\n",
       "      <td>1</td>\n",
       "      <td>2016-03-02 10:07:11</td>\n",
       "      <td>2016-03-02 10:20:39</td>\n",
       "      <td>1</td>\n",
       "      <td>-73.975693</td>\n",
       "      <td>40.759712</td>\n",
       "      <td>-73.988235</td>\n",
       "      <td>40.753986</td>\n",
       "      <td>N</td>\n",
       "      <td>808</td>\n",
       "      <td>Wednesday</td>\n",
       "    </tr>\n",
       "    <tr>\n",
       "      <th>2</th>\n",
       "      <td>358078</td>\n",
       "      <td>id3093367</td>\n",
       "      <td>2</td>\n",
       "      <td>2016-02-17 17:18:27</td>\n",
       "      <td>2016-02-17 18:21:34</td>\n",
       "      <td>2</td>\n",
       "      <td>-73.781830</td>\n",
       "      <td>40.644772</td>\n",
       "      <td>-73.989960</td>\n",
       "      <td>40.747150</td>\n",
       "      <td>N</td>\n",
       "      <td>3787</td>\n",
       "      <td>Wednesday</td>\n",
       "    </tr>\n",
       "    <tr>\n",
       "      <th>3</th>\n",
       "      <td>1118733</td>\n",
       "      <td>id0727316</td>\n",
       "      <td>2</td>\n",
       "      <td>2016-03-17 07:30:59</td>\n",
       "      <td>2016-03-17 07:42:18</td>\n",
       "      <td>1</td>\n",
       "      <td>-73.956200</td>\n",
       "      <td>40.778713</td>\n",
       "      <td>-73.976463</td>\n",
       "      <td>40.739731</td>\n",
       "      <td>N</td>\n",
       "      <td>679</td>\n",
       "      <td>Thursday</td>\n",
       "    </tr>\n",
       "    <tr>\n",
       "      <th>4</th>\n",
       "      <td>110409</td>\n",
       "      <td>id2137873</td>\n",
       "      <td>2</td>\n",
       "      <td>2016-04-20 17:15:26</td>\n",
       "      <td>2016-04-20 18:01:57</td>\n",
       "      <td>6</td>\n",
       "      <td>-73.789513</td>\n",
       "      <td>40.646938</td>\n",
       "      <td>-73.951851</td>\n",
       "      <td>40.809151</td>\n",
       "      <td>N</td>\n",
       "      <td>2791</td>\n",
       "      <td>Wednesday</td>\n",
       "    </tr>\n",
       "  </tbody>\n",
       "</table>\n",
       "</div>"
      ],
      "text/plain": [
       "   Unnamed: 0         id vendor_id     pickup_datetime    dropoff_datetime  \\\n",
       "0      583100  id3879397         1 2016-06-02 17:46:16 2016-06-02 18:22:26   \n",
       "1     1320440  id0701659         1 2016-03-02 10:07:11 2016-03-02 10:20:39   \n",
       "2      358078  id3093367         2 2016-02-17 17:18:27 2016-02-17 18:21:34   \n",
       "3     1118733  id0727316         2 2016-03-17 07:30:59 2016-03-17 07:42:18   \n",
       "4      110409  id2137873         2 2016-04-20 17:15:26 2016-04-20 18:01:57   \n",
       "\n",
       "   passenger_count  pickup_longitude  pickup_latitude  dropoff_longitude  \\\n",
       "0                1        -73.990105        40.732841         -73.973244   \n",
       "1                1        -73.975693        40.759712         -73.988235   \n",
       "2                2        -73.781830        40.644772         -73.989960   \n",
       "3                1        -73.956200        40.778713         -73.976463   \n",
       "4                6        -73.789513        40.646938         -73.951851   \n",
       "\n",
       "   dropoff_latitude store_and_fwd_flag  trip_duration   week_day  \n",
       "0         40.782879                  N           2170   Thursday  \n",
       "1         40.753986                  N            808  Wednesday  \n",
       "2         40.747150                  N           3787  Wednesday  \n",
       "3         40.739731                  N            679   Thursday  \n",
       "4         40.809151                  N           2791  Wednesday  "
      ]
     },
     "execution_count": 89,
     "metadata": {},
     "output_type": "execute_result"
    }
   ],
   "source": [
    "df.head()"
   ]
  },
  {
   "cell_type": "code",
   "execution_count": 90,
   "metadata": {},
   "outputs": [
    {
     "data": {
      "text/plain": [
       "week_day\n",
       "Friday       149378\n",
       "Monday       122687\n",
       "Saturday     152938\n",
       "Sunday       134122\n",
       "Thursday     143274\n",
       "Tuesday      133275\n",
       "Wednesday    137027\n",
       "Name: passenger_count, dtype: int64"
      ]
     },
     "execution_count": 90,
     "metadata": {},
     "output_type": "execute_result"
    }
   ],
   "source": [
    "grouped1 = df.groupby('week_day')['passenger_count'].sum()\n",
    "grouped1.head(8)"
   ]
  },
  {
   "cell_type": "code",
   "execution_count": 91,
   "metadata": {},
   "outputs": [
    {
     "data": {
      "image/png": "[encoded data removed]",
      "text/plain": [
       "<Figure size 720x72 with 1 Axes>"
      ]
     },
     "metadata": {
      "needs_background": "light"
     },
     "output_type": "display_data"
    }
   ],
   "source": [
    "current_palette = sns.color_palette()\n",
    "sns.palplot(current_palette)"
   ]
  },
  {
   "cell_type": "code",
   "execution_count": 92,
   "metadata": {},
   "outputs": [
    {
     "data": {
      "image/png": "[encoded data removed]",
      "text/plain": [
       "<Figure size 432x72 with 1 Axes>"
      ]
     },
     "metadata": {
      "needs_background": "light"
     },
     "output_type": "display_data"
    }
   ],
   "source": [
    "sns.palplot(sns.color_palette(\"Blues\")) # more collors at https://seaborn.pydata.org/tutorial/color_palettes.html"
   ]
  },
  {
   "cell_type": "code",
   "execution_count": 93,
   "metadata": {},
   "outputs": [
    {
     "data": {
      "text/plain": [
       "<matplotlib.axes._subplots.AxesSubplot at 0x22407bf8668>"
      ]
     },
     "execution_count": 93,
     "metadata": {},
     "output_type": "execute_result"
    },
    {
     "data": {
      "image/png": "[encoded data removed]",
      "text/plain": [
       "<Figure size 432x288 with 1 Axes>"
      ]
     },
     "metadata": {
      "needs_background": "light"
     },
     "output_type": "display_data"
    }
   ],
   "source": [
    "color_palette = sns.color_palette(\"Blues\", 7) #The number reperesents how many colors you want\n",
    "grouped1.head(10).plot(kind='barh', color = color_palette)"
   ]
  },
  {
   "cell_type": "code",
   "execution_count": 94,
   "metadata": {},
   "outputs": [
    {
     "data": {
      "text/plain": [
       "week_day\n",
       "Friday       149378\n",
       "Monday       122687\n",
       "Saturday     152938\n",
       "Sunday       134122\n",
       "Thursday     143274\n",
       "Tuesday      133275\n",
       "Wednesday    137027\n",
       "Name: passenger_count, dtype: int64"
      ]
     },
     "execution_count": 94,
     "metadata": {},
     "output_type": "execute_result"
    }
   ],
   "source": [
    "grouped1"
   ]
  },
  {
   "cell_type": "code",
   "execution_count": 95,
   "metadata": {},
   "outputs": [
    {
     "data": {
      "text/plain": [
       "<matplotlib.axes._subplots.AxesSubplot at 0x22407c50da0>"
      ]
     },
     "execution_count": 95,
     "metadata": {},
     "output_type": "execute_result"
    },
    {
     "data": {
      "image/png": "[encoded data removed]",
      "text/plain": [
       "<Figure size 432x288 with 1 Axes>"
      ]
     },
     "metadata": {
      "needs_background": "light"
     },
     "output_type": "display_data"
    }
   ],
   "source": [
    "grouped1.plot(kind='bar')"
   ]
  },
  {
   "cell_type": "code",
   "execution_count": 96,
   "metadata": {},
   "outputs": [],
   "source": [
    "week_days_dict = {'Monday' : 0, 'Tuesday' :1, 'Wednesday' : 2, 'Thursday' : 3, 'Friday' : 4, 'Saturday' : 5, 'Sunday':6 }"
   ]
  },
  {
   "cell_type": "code",
   "execution_count": 97,
   "metadata": {},
   "outputs": [
    {
     "data": {
      "text/html": [
       "<div>\n",
       "<style scoped>\n",
       "    .dataframe tbody tr th:only-of-type {\n",
       "        vertical-align: middle;\n",
       "    }\n",
       "\n",
       "    .dataframe tbody tr th {\n",
       "        vertical-align: top;\n",
       "    }\n",
       "\n",
       "    .dataframe thead th {\n",
       "        text-align: right;\n",
       "    }\n",
       "</style>\n",
       "<table border=\"1\" class=\"dataframe\">\n",
       "  <thead>\n",
       "    <tr style=\"text-align: right;\">\n",
       "      <th></th>\n",
       "      <th>Unnamed: 0</th>\n",
       "      <th>id</th>\n",
       "      <th>vendor_id</th>\n",
       "      <th>pickup_datetime</th>\n",
       "      <th>dropoff_datetime</th>\n",
       "      <th>passenger_count</th>\n",
       "      <th>pickup_longitude</th>\n",
       "      <th>pickup_latitude</th>\n",
       "      <th>dropoff_longitude</th>\n",
       "      <th>dropoff_latitude</th>\n",
       "      <th>store_and_fwd_flag</th>\n",
       "      <th>trip_duration</th>\n",
       "      <th>week_day</th>\n",
       "      <th>week_day_numbers</th>\n",
       "    </tr>\n",
       "  </thead>\n",
       "  <tbody>\n",
       "    <tr>\n",
       "      <th>0</th>\n",
       "      <td>583100</td>\n",
       "      <td>id3879397</td>\n",
       "      <td>1</td>\n",
       "      <td>2016-06-02 17:46:16</td>\n",
       "      <td>2016-06-02 18:22:26</td>\n",
       "      <td>1</td>\n",
       "      <td>-73.990105</td>\n",
       "      <td>40.732841</td>\n",
       "      <td>-73.973244</td>\n",
       "      <td>40.782879</td>\n",
       "      <td>N</td>\n",
       "      <td>2170</td>\n",
       "      <td>Thursday</td>\n",
       "      <td>3</td>\n",
       "    </tr>\n",
       "    <tr>\n",
       "      <th>1</th>\n",
       "      <td>1320440</td>\n",
       "      <td>id0701659</td>\n",
       "      <td>1</td>\n",
       "      <td>2016-03-02 10:07:11</td>\n",
       "      <td>2016-03-02 10:20:39</td>\n",
       "      <td>1</td>\n",
       "      <td>-73.975693</td>\n",
       "      <td>40.759712</td>\n",
       "      <td>-73.988235</td>\n",
       "      <td>40.753986</td>\n",
       "      <td>N</td>\n",
       "      <td>808</td>\n",
       "      <td>Wednesday</td>\n",
       "      <td>2</td>\n",
       "    </tr>\n",
       "    <tr>\n",
       "      <th>2</th>\n",
       "      <td>358078</td>\n",
       "      <td>id3093367</td>\n",
       "      <td>2</td>\n",
       "      <td>2016-02-17 17:18:27</td>\n",
       "      <td>2016-02-17 18:21:34</td>\n",
       "      <td>2</td>\n",
       "      <td>-73.781830</td>\n",
       "      <td>40.644772</td>\n",
       "      <td>-73.989960</td>\n",
       "      <td>40.747150</td>\n",
       "      <td>N</td>\n",
       "      <td>3787</td>\n",
       "      <td>Wednesday</td>\n",
       "      <td>2</td>\n",
       "    </tr>\n",
       "    <tr>\n",
       "      <th>3</th>\n",
       "      <td>1118733</td>\n",
       "      <td>id0727316</td>\n",
       "      <td>2</td>\n",
       "      <td>2016-03-17 07:30:59</td>\n",
       "      <td>2016-03-17 07:42:18</td>\n",
       "      <td>1</td>\n",
       "      <td>-73.956200</td>\n",
       "      <td>40.778713</td>\n",
       "      <td>-73.976463</td>\n",
       "      <td>40.739731</td>\n",
       "      <td>N</td>\n",
       "      <td>679</td>\n",
       "      <td>Thursday</td>\n",
       "      <td>3</td>\n",
       "    </tr>\n",
       "    <tr>\n",
       "      <th>4</th>\n",
       "      <td>110409</td>\n",
       "      <td>id2137873</td>\n",
       "      <td>2</td>\n",
       "      <td>2016-04-20 17:15:26</td>\n",
       "      <td>2016-04-20 18:01:57</td>\n",
       "      <td>6</td>\n",
       "      <td>-73.789513</td>\n",
       "      <td>40.646938</td>\n",
       "      <td>-73.951851</td>\n",
       "      <td>40.809151</td>\n",
       "      <td>N</td>\n",
       "      <td>2791</td>\n",
       "      <td>Wednesday</td>\n",
       "      <td>2</td>\n",
       "    </tr>\n",
       "  </tbody>\n",
       "</table>\n",
       "</div>"
      ],
      "text/plain": [
       "   Unnamed: 0         id vendor_id     pickup_datetime    dropoff_datetime  \\\n",
       "0      583100  id3879397         1 2016-06-02 17:46:16 2016-06-02 18:22:26   \n",
       "1     1320440  id0701659         1 2016-03-02 10:07:11 2016-03-02 10:20:39   \n",
       "2      358078  id3093367         2 2016-02-17 17:18:27 2016-02-17 18:21:34   \n",
       "3     1118733  id0727316         2 2016-03-17 07:30:59 2016-03-17 07:42:18   \n",
       "4      110409  id2137873         2 2016-04-20 17:15:26 2016-04-20 18:01:57   \n",
       "\n",
       "   passenger_count  pickup_longitude  pickup_latitude  dropoff_longitude  \\\n",
       "0                1        -73.990105        40.732841         -73.973244   \n",
       "1                1        -73.975693        40.759712         -73.988235   \n",
       "2                2        -73.781830        40.644772         -73.989960   \n",
       "3                1        -73.956200        40.778713         -73.976463   \n",
       "4                6        -73.789513        40.646938         -73.951851   \n",
       "\n",
       "   dropoff_latitude store_and_fwd_flag  trip_duration   week_day  \\\n",
       "0         40.782879                  N           2170   Thursday   \n",
       "1         40.753986                  N            808  Wednesday   \n",
       "2         40.747150                  N           3787  Wednesday   \n",
       "3         40.739731                  N            679   Thursday   \n",
       "4         40.809151                  N           2791  Wednesday   \n",
       "\n",
       "   week_day_numbers  \n",
       "0                 3  \n",
       "1                 2  \n",
       "2                 2  \n",
       "3                 3  \n",
       "4                 2  "
      ]
     },
     "execution_count": 97,
     "metadata": {},
     "output_type": "execute_result"
    }
   ],
   "source": [
    "df['week_day_numbers'] = df.week_day.map(week_days_dict)\n",
    "df.head()"
   ]
  },
  {
   "cell_type": "code",
   "execution_count": 98,
   "metadata": {},
   "outputs": [
    {
     "data": {
      "text/html": [
       "<div>\n",
       "<style scoped>\n",
       "    .dataframe tbody tr th:only-of-type {\n",
       "        vertical-align: middle;\n",
       "    }\n",
       "\n",
       "    .dataframe tbody tr th {\n",
       "        vertical-align: top;\n",
       "    }\n",
       "\n",
       "    .dataframe thead th {\n",
       "        text-align: right;\n",
       "    }\n",
       "</style>\n",
       "<table border=\"1\" class=\"dataframe\">\n",
       "  <thead>\n",
       "    <tr style=\"text-align: right;\">\n",
       "      <th></th>\n",
       "      <th>Unnamed: 0</th>\n",
       "      <th>id</th>\n",
       "      <th>vendor_id</th>\n",
       "      <th>pickup_datetime</th>\n",
       "      <th>dropoff_datetime</th>\n",
       "      <th>passenger_count</th>\n",
       "      <th>pickup_longitude</th>\n",
       "      <th>pickup_latitude</th>\n",
       "      <th>dropoff_longitude</th>\n",
       "      <th>dropoff_latitude</th>\n",
       "      <th>store_and_fwd_flag</th>\n",
       "      <th>trip_duration</th>\n",
       "      <th>week_day</th>\n",
       "      <th>week_day_numbers</th>\n",
       "    </tr>\n",
       "  </thead>\n",
       "  <tbody>\n",
       "    <tr>\n",
       "      <th>389111</th>\n",
       "      <td>1322087</td>\n",
       "      <td>id0425228</td>\n",
       "      <td>2</td>\n",
       "      <td>2016-03-28 15:58:32</td>\n",
       "      <td>2016-03-28 15:58:45</td>\n",
       "      <td>1</td>\n",
       "      <td>-73.996506</td>\n",
       "      <td>40.732784</td>\n",
       "      <td>-73.996498</td>\n",
       "      <td>40.732819</td>\n",
       "      <td>N</td>\n",
       "      <td>13</td>\n",
       "      <td>Monday</td>\n",
       "      <td>0</td>\n",
       "    </tr>\n",
       "    <tr>\n",
       "      <th>429366</th>\n",
       "      <td>537148</td>\n",
       "      <td>id1849953</td>\n",
       "      <td>1</td>\n",
       "      <td>2016-04-18 12:20:17</td>\n",
       "      <td>2016-04-18 12:51:59</td>\n",
       "      <td>1</td>\n",
       "      <td>-73.958572</td>\n",
       "      <td>40.778084</td>\n",
       "      <td>-73.996986</td>\n",
       "      <td>40.741604</td>\n",
       "      <td>N</td>\n",
       "      <td>1902</td>\n",
       "      <td>Monday</td>\n",
       "      <td>0</td>\n",
       "    </tr>\n",
       "    <tr>\n",
       "      <th>53826</th>\n",
       "      <td>719644</td>\n",
       "      <td>id1385480</td>\n",
       "      <td>1</td>\n",
       "      <td>2016-06-20 21:53:12</td>\n",
       "      <td>2016-06-20 22:19:47</td>\n",
       "      <td>1</td>\n",
       "      <td>-73.985786</td>\n",
       "      <td>40.751736</td>\n",
       "      <td>-73.948814</td>\n",
       "      <td>40.747593</td>\n",
       "      <td>N</td>\n",
       "      <td>1595</td>\n",
       "      <td>Monday</td>\n",
       "      <td>0</td>\n",
       "    </tr>\n",
       "    <tr>\n",
       "      <th>91763</th>\n",
       "      <td>508118</td>\n",
       "      <td>id1809004</td>\n",
       "      <td>1</td>\n",
       "      <td>2016-02-29 22:59:36</td>\n",
       "      <td>2016-02-29 23:05:56</td>\n",
       "      <td>1</td>\n",
       "      <td>-74.004311</td>\n",
       "      <td>40.747677</td>\n",
       "      <td>-73.997688</td>\n",
       "      <td>40.756760</td>\n",
       "      <td>N</td>\n",
       "      <td>380</td>\n",
       "      <td>Monday</td>\n",
       "      <td>0</td>\n",
       "    </tr>\n",
       "    <tr>\n",
       "      <th>429362</th>\n",
       "      <td>1071235</td>\n",
       "      <td>id3369529</td>\n",
       "      <td>1</td>\n",
       "      <td>2016-06-27 10:42:51</td>\n",
       "      <td>2016-06-27 10:48:31</td>\n",
       "      <td>1</td>\n",
       "      <td>-73.953758</td>\n",
       "      <td>40.767021</td>\n",
       "      <td>-73.953796</td>\n",
       "      <td>40.779251</td>\n",
       "      <td>N</td>\n",
       "      <td>340</td>\n",
       "      <td>Monday</td>\n",
       "      <td>0</td>\n",
       "    </tr>\n",
       "  </tbody>\n",
       "</table>\n",
       "</div>"
      ],
      "text/plain": [
       "        Unnamed: 0         id vendor_id     pickup_datetime  \\\n",
       "389111     1322087  id0425228         2 2016-03-28 15:58:32   \n",
       "429366      537148  id1849953         1 2016-04-18 12:20:17   \n",
       "53826       719644  id1385480         1 2016-06-20 21:53:12   \n",
       "91763       508118  id1809004         1 2016-02-29 22:59:36   \n",
       "429362     1071235  id3369529         1 2016-06-27 10:42:51   \n",
       "\n",
       "          dropoff_datetime  passenger_count  pickup_longitude  \\\n",
       "389111 2016-03-28 15:58:45                1        -73.996506   \n",
       "429366 2016-04-18 12:51:59                1        -73.958572   \n",
       "53826  2016-06-20 22:19:47                1        -73.985786   \n",
       "91763  2016-02-29 23:05:56                1        -74.004311   \n",
       "429362 2016-06-27 10:48:31                1        -73.953758   \n",
       "\n",
       "        pickup_latitude  dropoff_longitude  dropoff_latitude  \\\n",
       "389111        40.732784         -73.996498         40.732819   \n",
       "429366        40.778084         -73.996986         40.741604   \n",
       "53826         40.751736         -73.948814         40.747593   \n",
       "91763         40.747677         -73.997688         40.756760   \n",
       "429362        40.767021         -73.953796         40.779251   \n",
       "\n",
       "       store_and_fwd_flag  trip_duration week_day  week_day_numbers  \n",
       "389111                  N             13   Monday                 0  \n",
       "429366                  N           1902   Monday                 0  \n",
       "53826                   N           1595   Monday                 0  \n",
       "91763                   N            380   Monday                 0  \n",
       "429362                  N            340   Monday                 0  "
      ]
     },
     "execution_count": 98,
     "metadata": {},
     "output_type": "execute_result"
    }
   ],
   "source": [
    "sdf = df.sort_values(by=['week_day_numbers'])\n",
    "sdf.head()"
   ]
  },
  {
   "cell_type": "code",
   "execution_count": 99,
   "metadata": {},
   "outputs": [
    {
     "data": {
      "text/plain": [
       "Timestamp('2016-06-30 23:58:25')"
      ]
     },
     "execution_count": 99,
     "metadata": {},
     "output_type": "execute_result"
    }
   ],
   "source": [
    "df.pickup_datetime.max()"
   ]
  },
  {
   "cell_type": "code",
   "execution_count": null,
   "metadata": {},
   "outputs": [],
   "source": []
  },
  {
   "cell_type": "code",
   "execution_count": 100,
   "metadata": {},
   "outputs": [
    {
     "data": {
      "text/plain": [
       "Timestamp('2016-01-01 00:01:14')"
      ]
     },
     "execution_count": 100,
     "metadata": {},
     "output_type": "execute_result"
    }
   ],
   "source": [
    "df.pickup_datetime.min()"
   ]
  },
  {
   "cell_type": "code",
   "execution_count": 101,
   "metadata": {},
   "outputs": [],
   "source": [
    "#grouped2 = df.groupby('week_day')['passenger_count'].sum()\n",
    "grouped2 = df.groupby(['week_day','week_day_numbers'])['passenger_count'].sum()"
   ]
  },
  {
   "cell_type": "code",
   "execution_count": 102,
   "metadata": {},
   "outputs": [
    {
     "data": {
      "text/plain": [
       "week_day   week_day_numbers\n",
       "Friday     4                   149378\n",
       "Monday     0                   122687\n",
       "Saturday   5                   152938\n",
       "Sunday     6                   134122\n",
       "Thursday   3                   143274\n",
       "Tuesday    1                   133275\n",
       "Wednesday  2                   137027\n",
       "Name: passenger_count, dtype: int64"
      ]
     },
     "execution_count": 102,
     "metadata": {},
     "output_type": "execute_result"
    }
   ],
   "source": [
    "grouped2"
   ]
  },
  {
   "cell_type": "code",
   "execution_count": 103,
   "metadata": {},
   "outputs": [],
   "source": [
    "#grouped2=grouped2.reset_index()\n",
    "#grouped2=grouped2.sort_values(by=['week_day_numbers']).drop(columns='week_day_numbers')\n",
    "#grouped2=grouped2.set_index('week_day')\n",
    "#grouped2.plot(kind='bar')"
   ]
  },
  {
   "cell_type": "code",
   "execution_count": 104,
   "metadata": {},
   "outputs": [],
   "source": [
    "grouped2=grouped2.reset_index()"
   ]
  },
  {
   "cell_type": "code",
   "execution_count": 105,
   "metadata": {},
   "outputs": [],
   "source": [
    "grouped2=grouped2.sort_values(by=['week_day_numbers']).drop(columns='week_day_numbers')"
   ]
  },
  {
   "cell_type": "code",
   "execution_count": 36,
   "metadata": {},
   "outputs": [],
   "source": [
    "grouped2=grouped2.set_index('week_day')"
   ]
  },
  {
   "cell_type": "code",
   "execution_count": 106,
   "metadata": {},
   "outputs": [
    {
     "data": {
      "text/plain": [
       "<matplotlib.axes._subplots.AxesSubplot at 0x22407cd4c88>"
      ]
     },
     "execution_count": 106,
     "metadata": {},
     "output_type": "execute_result"
    },
    {
     "data": {
      "image/png": "[encoded data removed]",
      "text/plain": [
       "<Figure size 432x288 with 1 Axes>"
      ]
     },
     "metadata": {
      "needs_background": "light"
     },
     "output_type": "display_data"
    }
   ],
   "source": [
    "grouped2.plot(kind='bar')"
   ]
  },
  {
   "cell_type": "code",
   "execution_count": 38,
   "metadata": {},
   "outputs": [],
   "source": [
    "#! conda install -y -c conda-forge folium"
   ]
  },
  {
   "cell_type": "code",
   "execution_count": 39,
   "metadata": {},
   "outputs": [],
   "source": [
    "import folium"
   ]
  },
  {
   "cell_type": "code",
   "execution_count": 40,
   "metadata": {},
   "outputs": [
    {
     "data": {
      "text/html": [
       "<div style=\"width:100%;\"><div style=\"position:relative;width:100%;height:0;padding-bottom:60%;\"><iframe src=\"data:text/html;charset=utf-8;base64,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\" style=\"position:absolute;width:100%;height:100%;left:0;top:0;border:none !important;\" allowfullscreen webkitallowfullscreen mozallowfullscreen></iframe></div></div>"
      ],
      "text/plain": [
       "<folium.folium.Map at 0x22465b275c0>"
      ]
     },
     "execution_count": 40,
     "metadata": {},
     "output_type": "execute_result"
    }
   ],
   "source": [
    "#Retrieve the Average Latitude and Longitude to Center the Map\n",
    "lat = df.pickup_latitude.mean()\n",
    "long = df.pickup_longitude.mean()\n",
    "\n",
    "#Create a map of the area\n",
    "cab_map = folium.Map([lat, long])\n",
    "cab_map"
   ]
  },
  {
   "cell_type": "code",
   "execution_count": null,
   "metadata": {},
   "outputs": [],
   "source": []
  },
  {
   "cell_type": "code",
   "execution_count": 70,
   "metadata": {},
   "outputs": [
    {
     "data": {
      "text/html": [
       "<div style=\"width:100%;\"><div style=\"position:relative;width:100%;height:0;padding-bottom:60%;\"><iframe src=\"data:text/html;charset=utf-8;base64,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\" style=\"position:absolute;width:100%;height:100%;left:0;top:0;border:none !important;\" allowfullscreen webkitallowfullscreen mozallowfullscreen></iframe></div></div>"
      ],
      "text/plain": [
       "<folium.folium.Map at 0x224014122e8>"
      ]
     },
     "execution_count": 70,
     "metadata": {},
     "output_type": "execute_result"
    }
   ],
   "source": [
    "#Iterate through each row of a sample of the dataframe\n",
    "cab_map = folium.Map([lat, long]) #importante colocar essa formula, se nao cada vez os marcadores sao adicionados no mapa em vez de substitui-los\n",
    "\n",
    "for row in df.sample(1).index:\n",
    "    lat = df['pickup_latitude'][row]\n",
    "    long = df['pickup_longitude'][row]\n",
    "    marker = folium.Marker([lat, long],icon=folium.Icon(color='green'))\n",
    "    marker.add_to(cab_map)\n",
    "    \n",
    "cab_map"
   ]
  },
  {
   "cell_type": "code",
   "execution_count": 42,
   "metadata": {},
   "outputs": [
    {
     "data": {
      "text/html": [
       "<div style=\"width:100%;\"><div style=\"position:relative;width:100%;height:0;padding-bottom:60%;\"><iframe src=\"data:text/html;charset=utf-8;base64,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\" style=\"position:absolute;width:100%;height:100%;left:0;top:0;border:none !important;\" allowfullscreen webkitallowfullscreen mozallowfullscreen></iframe></div></div>"
      ],
      "text/plain": [
       "<folium.folium.Map at 0x224487b66d8>"
      ]
     },
     "execution_count": 42,
     "metadata": {},
     "output_type": "execute_result"
    }
   ],
   "source": [
    "import folium\n",
    "map_1 = folium.Map(location=[45.372, -121.6972], zoom_start=12,tiles='Stamen Terrain')\n",
    "folium.Marker([45.3288, -121.6625], popup='Mt. Hood Meadows', icon=folium.Icon(icon='cloud')).add_to(map_1)\n",
    "folium.Marker([45.3311, -121.7113], popup='Timberline Lodge',icon=folium.Icon(color='green')).add_to(map_1)\n",
    "folium.Marker([45.3300, -121.6823], popup='Some Other Location',icon=folium.Icon(color='red', icon='info-sign')).add_to(map_1)\n",
    "map_1"
   ]
  },
  {
   "cell_type": "markdown",
   "metadata": {},
   "source": [
    "## Linear Regression"
   ]
  },
  {
   "cell_type": "code",
   "execution_count": 43,
   "metadata": {},
   "outputs": [],
   "source": [
    "#Define X and y\n",
    "X = pd.get_dummies(df[['passenger_count', 'vendor_id',\n",
    "           'pickup_longitude', 'pickup_latitude', 'dropoff_longitude', 'dropoff_latitude']]) #features we think may help predict y\n",
    "y = df['trip_duration'] #what we want to predict"
   ]
  },
  {
   "cell_type": "code",
   "execution_count": 44,
   "metadata": {},
   "outputs": [
    {
     "data": {
      "text/html": [
       "<div>\n",
       "<style scoped>\n",
       "    .dataframe tbody tr th:only-of-type {\n",
       "        vertical-align: middle;\n",
       "    }\n",
       "\n",
       "    .dataframe tbody tr th {\n",
       "        vertical-align: top;\n",
       "    }\n",
       "\n",
       "    .dataframe thead th {\n",
       "        text-align: right;\n",
       "    }\n",
       "</style>\n",
       "<table border=\"1\" class=\"dataframe\">\n",
       "  <thead>\n",
       "    <tr style=\"text-align: right;\">\n",
       "      <th></th>\n",
       "      <th>passenger_count</th>\n",
       "      <th>pickup_longitude</th>\n",
       "      <th>pickup_latitude</th>\n",
       "      <th>dropoff_longitude</th>\n",
       "      <th>dropoff_latitude</th>\n",
       "      <th>vendor_id_1</th>\n",
       "      <th>vendor_id_2</th>\n",
       "    </tr>\n",
       "  </thead>\n",
       "  <tbody>\n",
       "    <tr>\n",
       "      <th>0</th>\n",
       "      <td>1</td>\n",
       "      <td>-73.990105</td>\n",
       "      <td>40.732841</td>\n",
       "      <td>-73.973244</td>\n",
       "      <td>40.782879</td>\n",
       "      <td>1</td>\n",
       "      <td>0</td>\n",
       "    </tr>\n",
       "    <tr>\n",
       "      <th>1</th>\n",
       "      <td>1</td>\n",
       "      <td>-73.975693</td>\n",
       "      <td>40.759712</td>\n",
       "      <td>-73.988235</td>\n",
       "      <td>40.753986</td>\n",
       "      <td>1</td>\n",
       "      <td>0</td>\n",
       "    </tr>\n",
       "    <tr>\n",
       "      <th>2</th>\n",
       "      <td>2</td>\n",
       "      <td>-73.781830</td>\n",
       "      <td>40.644772</td>\n",
       "      <td>-73.989960</td>\n",
       "      <td>40.747150</td>\n",
       "      <td>0</td>\n",
       "      <td>1</td>\n",
       "    </tr>\n",
       "    <tr>\n",
       "      <th>3</th>\n",
       "      <td>1</td>\n",
       "      <td>-73.956200</td>\n",
       "      <td>40.778713</td>\n",
       "      <td>-73.976463</td>\n",
       "      <td>40.739731</td>\n",
       "      <td>0</td>\n",
       "      <td>1</td>\n",
       "    </tr>\n",
       "    <tr>\n",
       "      <th>4</th>\n",
       "      <td>6</td>\n",
       "      <td>-73.789513</td>\n",
       "      <td>40.646938</td>\n",
       "      <td>-73.951851</td>\n",
       "      <td>40.809151</td>\n",
       "      <td>0</td>\n",
       "      <td>1</td>\n",
       "    </tr>\n",
       "  </tbody>\n",
       "</table>\n",
       "</div>"
      ],
      "text/plain": [
       "   passenger_count  pickup_longitude  pickup_latitude  dropoff_longitude  \\\n",
       "0                1        -73.990105        40.732841         -73.973244   \n",
       "1                1        -73.975693        40.759712         -73.988235   \n",
       "2                2        -73.781830        40.644772         -73.989960   \n",
       "3                1        -73.956200        40.778713         -73.976463   \n",
       "4                6        -73.789513        40.646938         -73.951851   \n",
       "\n",
       "   dropoff_latitude  vendor_id_1  vendor_id_2  \n",
       "0         40.782879            1            0  \n",
       "1         40.753986            1            0  \n",
       "2         40.747150            0            1  \n",
       "3         40.739731            0            1  \n",
       "4         40.809151            0            1  "
      ]
     },
     "execution_count": 44,
     "metadata": {},
     "output_type": "execute_result"
    }
   ],
   "source": [
    "X.head()"
   ]
  },
  {
   "cell_type": "code",
   "execution_count": 45,
   "metadata": {},
   "outputs": [],
   "source": [
    "from sklearn.model_selection import train_test_split"
   ]
  },
  {
   "cell_type": "code",
   "execution_count": 46,
   "metadata": {},
   "outputs": [],
   "source": [
    "X_train, X_test, y_train, y_test = train_test_split(X, y, random_state=32)"
   ]
  },
  {
   "cell_type": "code",
   "execution_count": 47,
   "metadata": {},
   "outputs": [
    {
     "name": "stdout",
     "output_type": "stream",
     "text": [
      "437593 145865 437593 145865\n"
     ]
    }
   ],
   "source": [
    "#A brief preview of our train test split\n",
    "print(len(X_train), len(X_test), len(y_train), len(y_test))"
   ]
  },
  {
   "cell_type": "code",
   "execution_count": 48,
   "metadata": {},
   "outputs": [],
   "source": [
    "from sklearn.linear_model import LinearRegression\n",
    "\n",
    "#Initialize a regression object\n",
    "linreg = LinearRegression()"
   ]
  },
  {
   "cell_type": "code",
   "execution_count": 49,
   "metadata": {},
   "outputs": [
    {
     "data": {
      "text/plain": [
       "LinearRegression(copy_X=True, fit_intercept=True, n_jobs=1, normalize=False)"
      ]
     },
     "execution_count": 49,
     "metadata": {},
     "output_type": "execute_result"
    }
   ],
   "source": [
    "linreg.fit(X_train, y_train)"
   ]
  },
  {
   "cell_type": "code",
   "execution_count": 50,
   "metadata": {},
   "outputs": [],
   "source": [
    "y_hat_train = linreg.predict(X_train)\n",
    "y_hat_test = linreg.predict(X_test)"
   ]
  },
  {
   "cell_type": "code",
   "execution_count": 51,
   "metadata": {},
   "outputs": [],
   "source": [
    "train_residuals = y_hat_train - y_train\n",
    "test_residuals = y_hat_test - y_test"
   ]
  },
  {
   "cell_type": "code",
   "execution_count": 52,
   "metadata": {},
   "outputs": [],
   "source": [
    "from sklearn.metrics import mean_squared_error"
   ]
  },
  {
   "cell_type": "code",
   "execution_count": 53,
   "metadata": {},
   "outputs": [],
   "source": [
    "import numpy as np"
   ]
  },
  {
   "cell_type": "code",
   "execution_count": 54,
   "metadata": {},
   "outputs": [
    {
     "name": "stdout",
     "output_type": "stream",
     "text": [
      "Train Mean Squarred Error: 47094372.886265345\n",
      "Test Mean Squarred Error: 10795769.392378427\n"
     ]
    }
   ],
   "source": [
    "train_mse = mean_squared_error(y_train, y_hat_train)\n",
    "test_mse = mean_squared_error(y_test, y_hat_test)\n",
    "print('Train Mean Squarred Error:', train_mse)\n",
    "print('Test Mean Squarred Error:', test_mse)"
   ]
  },
  {
   "cell_type": "code",
   "execution_count": 55,
   "metadata": {},
   "outputs": [],
   "source": [
    "import math"
   ]
  },
  {
   "cell_type": "code",
   "execution_count": 56,
   "metadata": {},
   "outputs": [
    {
     "name": "stdout",
     "output_type": "stream",
     "text": [
      "Train Mean Square Rot of Squarred Error: 6862.533998915076\n",
      "Test Mean Square Rot of Squarred Error: 3285.6916155321737\n"
     ]
    }
   ],
   "source": [
    "print('Train Mean Square Rot of Squarred Error:', math.sqrt(train_mse))\n",
    "print('Test Mean Square Rot of Squarred Error:', math.sqrt(test_mse))"
   ]
  },
  {
   "cell_type": "markdown",
   "metadata": {},
   "source": [
    "## Cross Validation"
   ]
  },
  {
   "cell_type": "code",
   "execution_count": 57,
   "metadata": {},
   "outputs": [],
   "source": [
    "from sklearn.model_selection import KFold"
   ]
  },
  {
   "cell_type": "code",
   "execution_count": 58,
   "metadata": {},
   "outputs": [],
   "source": [
    "kf = KFold(n_splits=6, shuffle=True)"
   ]
  },
  {
   "cell_type": "code",
   "execution_count": 59,
   "metadata": {},
   "outputs": [
    {
     "name": "stdout",
     "output_type": "stream",
     "text": [
      "train index: [     0      2      3 ... 583455 583456 583457] 486215\n",
      "test index: [     1      6      7 ... 583412 583430 583432] 97243\n",
      "\n",
      "train index: [     1      2      3 ... 583453 583456 583457] 486215\n",
      "test index: [     0      5      8 ... 583451 583454 583455] 97243\n",
      "\n",
      "train index: [     0      1      2 ... 583455 583456 583457] 486215\n",
      "test index: [     4     22     24 ... 583443 583447 583452] 97243\n",
      "\n",
      "train index: [     0      1      3 ... 583455 583456 583457] 486215\n",
      "test index: [     2     10     13 ... 583445 583446 583450] 97243\n",
      "\n",
      "train index: [     0      1      2 ... 583453 583454 583455] 486215\n",
      "test index: [     3     14     28 ... 583449 583456 583457] 97243\n",
      "\n",
      "train index: [     0      1      2 ... 583455 583456 583457] 486215\n",
      "test index: [     9     19     34 ... 583440 583448 583453] 97243\n",
      "\n"
     ]
    }
   ],
   "source": [
    "for train_index, test_index in kf.split(df):\n",
    "    print('train index:', train_index, len(train_index))\n",
    "    print('test index:', test_index, len(test_index))\n",
    "    print()"
   ]
  },
  {
   "cell_type": "code",
   "execution_count": 60,
   "metadata": {},
   "outputs": [],
   "source": [
    "rmse_df = pd.DataFrame(columns=['fold', 'train', 'test'])\n",
    "\n",
    "for fold, (train_index, test_index) in enumerate(kf.split(df)):\n",
    "    X_tr = X.loc[train_index]\n",
    "    y_tr = y.loc[train_index]\n",
    "    X_te = X.loc[test_index]\n",
    "    y_te = y.loc[test_index]\n",
    "#     Similar: X_tr, y_tr, X_te, y_te = train_test_split(......)\n",
    "    \n",
    "#     print(X_tr.shape, y_tr.shape)\n",
    "#     print(X_te.shape, y_te.shape)\n",
    "#     print()\n",
    "    \n",
    "\n",
    "    mod = LinearRegression()\n",
    "    mod.fit(X_tr, y_tr)\n",
    "    \n",
    "    rmse_tr = np.sqrt(mean_squared_error(y_tr, mod.predict(X_tr)))\n",
    "    rmse_te = np.sqrt(mean_squared_error(y_te, mod.predict(X_te)))\n",
    "    \n",
    "    tmp_df = pd.DataFrame({'fold': [fold], 'train': [rmse_tr], 'test': [rmse_te]})\n",
    "    rmse_df = pd.concat([rmse_df, tmp_df], ignore_index=True)"
   ]
  },
  {
   "cell_type": "code",
   "execution_count": 61,
   "metadata": {},
   "outputs": [
    {
     "data": {
      "text/html": [
       "<div>\n",
       "<style scoped>\n",
       "    .dataframe tbody tr th:only-of-type {\n",
       "        vertical-align: middle;\n",
       "    }\n",
       "\n",
       "    .dataframe tbody tr th {\n",
       "        vertical-align: top;\n",
       "    }\n",
       "\n",
       "    .dataframe thead th {\n",
       "        text-align: right;\n",
       "    }\n",
       "</style>\n",
       "<table border=\"1\" class=\"dataframe\">\n",
       "  <thead>\n",
       "    <tr style=\"text-align: right;\">\n",
       "      <th></th>\n",
       "      <th>fold</th>\n",
       "      <th>train</th>\n",
       "      <th>test</th>\n",
       "    </tr>\n",
       "  </thead>\n",
       "  <tbody>\n",
       "    <tr>\n",
       "      <th>0</th>\n",
       "      <td>0</td>\n",
       "      <td>6593.201296</td>\n",
       "      <td>3053.683322</td>\n",
       "    </tr>\n",
       "    <tr>\n",
       "      <th>1</th>\n",
       "      <td>1</td>\n",
       "      <td>5962.466269</td>\n",
       "      <td>6993.753642</td>\n",
       "    </tr>\n",
       "    <tr>\n",
       "      <th>2</th>\n",
       "      <td>2</td>\n",
       "      <td>6580.497743</td>\n",
       "      <td>3186.976797</td>\n",
       "    </tr>\n",
       "    <tr>\n",
       "      <th>3</th>\n",
       "      <td>3</td>\n",
       "      <td>4205.993670</td>\n",
       "      <td>11756.745495</td>\n",
       "    </tr>\n",
       "    <tr>\n",
       "      <th>4</th>\n",
       "      <td>4</td>\n",
       "      <td>6573.443228</td>\n",
       "      <td>3258.223127</td>\n",
       "    </tr>\n",
       "    <tr>\n",
       "      <th>5</th>\n",
       "      <td>5</td>\n",
       "      <td>6590.571801</td>\n",
       "      <td>3081.793409</td>\n",
       "    </tr>\n",
       "  </tbody>\n",
       "</table>\n",
       "</div>"
      ],
      "text/plain": [
       "  fold        train          test\n",
       "0    0  6593.201296   3053.683322\n",
       "1    1  5962.466269   6993.753642\n",
       "2    2  6580.497743   3186.976797\n",
       "3    3  4205.993670  11756.745495\n",
       "4    4  6573.443228   3258.223127\n",
       "5    5  6590.571801   3081.793409"
      ]
     },
     "execution_count": 61,
     "metadata": {},
     "output_type": "execute_result"
    }
   ],
   "source": [
    "rmse_df"
   ]
  },
  {
   "cell_type": "code",
   "execution_count": 62,
   "metadata": {},
   "outputs": [
    {
     "name": "stdout",
     "output_type": "stream",
     "text": [
      "*Time in seconds*\n",
      "Mean training rmse: 6084.362334614939\n",
      "Mean testing rmse: 5221.862631908297\n"
     ]
    }
   ],
   "source": [
    "print('*Time in seconds*')\n",
    "print('Mean training rmse:', rmse_df['train'].mean())\n",
    "print('Mean testing rmse:', rmse_df['test'].mean())"
   ]
  },
  {
   "cell_type": "code",
   "execution_count": 64,
   "metadata": {},
   "outputs": [],
   "source": [
    "from plotnine import *"
   ]
  },
  {
   "cell_type": "code",
   "execution_count": 65,
   "metadata": {},
   "outputs": [
    {
     "name": "stderr",
     "output_type": "stream",
     "text": [
      "C:\\Users\\idiesendruck\\AppData\\Local\\Continuum\\anaconda3\\lib\\site-packages\\plotnine\\utils.py:281: FutureWarning: Method .as_matrix will be removed in a future version. Use .values instead.\n",
      "  ndistinct = ids.apply(len_unique, axis=0).as_matrix()\n",
      "C:\\Users\\idiesendruck\\AppData\\Local\\Continuum\\anaconda3\\lib\\site-packages\\pandas\\core\\generic.py:4388: FutureWarning: Attribute 'is_copy' is deprecated and will be removed in a future version.\n",
      "  object.__getattribute__(self, name)\n",
      "C:\\Users\\idiesendruck\\AppData\\Local\\Continuum\\anaconda3\\lib\\site-packages\\pandas\\core\\generic.py:4389: FutureWarning: Attribute 'is_copy' is deprecated and will be removed in a future version.\n",
      "  return object.__setattr__(self, name, value)\n",
      "C:\\Users\\idiesendruck\\AppData\\Local\\Continuum\\anaconda3\\lib\\site-packages\\plotnine\\positions\\position.py:188: FutureWarning: Method .as_matrix will be removed in a future version. Use .values instead.\n",
      "  intervals = data[xminmax].drop_duplicates().as_matrix().flatten()\n"
     ]
    },
    {
     "data": {
      "image/png": "[encoded data removed]",
      "text/plain": [
       "<Figure size 640x480 with 1 Axes>"
      ]
     },
     "metadata": {
      "needs_background": "light"
     },
     "output_type": "display_data"
    },
    {
     "data": {
      "text/plain": [
       "<ggplot: (147103783772)>"
      ]
     },
     "execution_count": 65,
     "metadata": {},
     "output_type": "execute_result"
    }
   ],
   "source": [
    "plt_df = (rmse_df.melt(id_vars=['fold'], var_name='data', value_name='rmse')\n",
    "          .assign(mean = lambda d: d.groupby('data')['rmse'].transform(lambda x: x.mean()))\n",
    "         )\n",
    "(ggplot(plt_df, aes(x='fold', y='rmse', fill='data'))\n",
    " + geom_col(position='dodge')\n",
    " + geom_hline(aes(yintercept='mean', color='data'), linetype='--', size=2)\n",
    " + theme_minimal()\n",
    ")"
   ]
  },
  {
   "cell_type": "code",
   "execution_count": null,
   "metadata": {},
   "outputs": [],
   "source": []
  },
  {
   "cell_type": "code",
   "execution_count": null,
   "metadata": {},
   "outputs": [],
   "source": []
  },
  {
   "cell_type": "code",
   "execution_count": null,
   "metadata": {},
   "outputs": [],
   "source": []
  },
  {
   "cell_type": "code",
   "execution_count": null,
   "metadata": {},
   "outputs": [],
   "source": []
  },
  {
   "cell_type": "code",
   "execution_count": null,
   "metadata": {},
   "outputs": [],
   "source": []
  },
  {
   "cell_type": "code",
   "execution_count": null,
   "metadata": {},
   "outputs": [],
   "source": []
  },
  {
   "cell_type": "code",
   "execution_count": null,
   "metadata": {},
   "outputs": [],
   "source": []
  },
  {
   "cell_type": "code",
   "execution_count": null,
   "metadata": {},
   "outputs": [],
   "source": []
  },
  {
   "cell_type": "code",
   "execution_count": null,
   "metadata": {},
   "outputs": [],
   "source": []
  },
  {
   "cell_type": "code",
   "execution_count": null,
   "metadata": {},
   "outputs": [],
   "source": []
  },
  {
   "cell_type": "code",
   "execution_count": null,
   "metadata": {},
   "outputs": [],
   "source": []
  },
  {
   "cell_type": "code",
   "execution_count": null,
   "metadata": {},
   "outputs": [],
   "source": []
  },
  {
   "cell_type": "code",
   "execution_count": null,
   "metadata": {},
   "outputs": [],
   "source": []
  },
  {
   "cell_type": "code",
   "execution_count": null,
   "metadata": {},
   "outputs": [],
   "source": []
  },
  {
   "cell_type": "code",
   "execution_count": null,
   "metadata": {},
   "outputs": [],
   "source": []
  },
  {
   "cell_type": "code",
   "execution_count": null,
   "metadata": {},
   "outputs": [],
   "source": []
  },
  {
   "cell_type": "code",
   "execution_count": null,
   "metadata": {},
   "outputs": [],
   "source": []
  },
  {
   "cell_type": "code",
   "execution_count": null,
   "metadata": {},
   "outputs": [],
   "source": []
  },
  {
   "cell_type": "code",
   "execution_count": null,
   "metadata": {
    "scrolled": true
   },
   "outputs": [],
   "source": []
  },
  {
   "cell_type": "code",
   "execution_count": null,
   "metadata": {},
   "outputs": [],
   "source": []
  },
  {
   "cell_type": "code",
   "execution_count": null,
   "metadata": {
    "scrolled": true
   },
   "outputs": [],
   "source": []
  },
  {
   "cell_type": "code",
   "execution_count": null,
   "metadata": {},
   "outputs": [],
   "source": []
  },
  {
   "cell_type": "code",
   "execution_count": null,
   "metadata": {},
   "outputs": [],
   "source": []
  },
  {
   "cell_type": "code",
   "execution_count": null,
   "metadata": {},
   "outputs": [],
   "source": []
  },
  {
   "cell_type": "code",
   "execution_count": null,
   "metadata": {},
   "outputs": [],
   "source": []
  },
  {
   "cell_type": "code",
   "execution_count": null,
   "metadata": {},
   "outputs": [],
   "source": []
  },
  {
   "cell_type": "code",
   "execution_count": null,
   "metadata": {},
   "outputs": [],
   "source": []
  },
  {
   "cell_type": "code",
   "execution_count": null,
   "metadata": {},
   "outputs": [],
   "source": []
  },
  {
   "cell_type": "code",
   "execution_count": null,
   "metadata": {},
   "outputs": [],
   "source": []
  },
  {
   "cell_type": "code",
   "execution_count": null,
   "metadata": {},
   "outputs": [],
   "source": []
  },
  {
   "cell_type": "code",
   "execution_count": null,
   "metadata": {},
   "outputs": [],
   "source": []
  },
  {
   "cell_type": "code",
   "execution_count": null,
   "metadata": {},
   "outputs": [],
   "source": []
  },
  {
   "cell_type": "code",
   "execution_count": null,
   "metadata": {},
   "outputs": [],
   "source": []
  },
  {
   "cell_type": "code",
   "execution_count": null,
   "metadata": {},
   "outputs": [],
   "source": []
  },
  {
   "cell_type": "code",
   "execution_count": null,
   "metadata": {},
   "outputs": [],
   "source": []
  },
  {
   "cell_type": "code",
   "execution_count": null,
   "metadata": {},
   "outputs": [],
   "source": []
  }
 ],
 "metadata": {
  "kernelspec": {
   "display_name": "Python 3",
   "language": "python",
   "name": "python3"
  },
  "language_info": {
   "codemirror_mode": {
    "name": "ipython",
    "version": 3
   },
   "file_extension": ".py",
   "mimetype": "text/x-python",
   "name": "python",
   "nbconvert_exporter": "python",
   "pygments_lexer": "ipython3",
   "version": "3.7.0"
  }
 },
 "nbformat": 4,
 "nbformat_minor": 2
}
